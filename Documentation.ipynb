{
 "metadata": {
  "language_info": {
   "codemirror_mode": {
    "name": "ipython",
    "version": 3
   },
   "file_extension": ".py",
   "mimetype": "text/x-python",
   "name": "python",
   "nbconvert_exporter": "python",
   "pygments_lexer": "ipython3",
   "version": "3.8.9"
  },
  "orig_nbformat": 2,
  "kernelspec": {
   "name": "python389jvsc74a57bd0f11507240e25bf34639e5730350710764b5fa63b90fb34364b2cd51f85ca4a08",
   "display_name": "Python 3.8.9 64-bit"
  },
  "metadata": {
   "interpreter": {
    "hash": "f11507240e25bf34639e5730350710764b5fa63b90fb34364b2cd51f85ca4a08"
   }
  }
 },
 "nbformat": 4,
 "nbformat_minor": 2,
 "cells": [
  {
   "source": [
    "# **This is a basic explanation of our messy code**"
   ],
   "cell_type": "markdown",
   "metadata": {}
  },
  {
   "source": [
    "## **This notebook is written by Tango(me) from our channel while this code is written by both me and Adiwow. Also only run the code at end and none other or it might not work. And dont forget to install Ffmpeg and PySimpleGUI by:**\n",
    ">pip install PySimpleGUI\n",
    "\n",
    ">pip install ffmpeg-python"
   ],
   "cell_type": "markdown",
   "metadata": {}
  },
  {
   "source": [
    "### **PySimpleGUI Part**"
   ],
   "cell_type": "markdown",
   "metadata": {}
  },
  {
   "cell_type": "code",
   "execution_count": null,
   "metadata": {},
   "outputs": [],
   "source": [
    "import ffmpeg\n",
    "import PySimpleGUI as sg"
   ]
  },
  {
   "source": [
    "just importing libraries and modules."
   ],
   "cell_type": "markdown",
   "metadata": {}
  },
  {
   "cell_type": "code",
   "execution_count": null,
   "metadata": {},
   "outputs": [],
   "source": [
    "layout = [  [sg.Text(\"Select Format\")],     \n",
    "            [sg.Input()],\n",
    "            [sg.Text(\"Select Output Format\")],\n",
    "            [sg.Input()],\n",
    "            [sg.Button('Ok')] ]\n",
    "window = sg.Window('Format selector', layout)\n",
    "event, values = window.read()"
   ]
  },
  {
   "source": [
    "this is some basic layout code. I recomend that you check out PysimpleGUI docs. **Sg is how it was written on PysimpleGUI's** site for import and we were lazy so Ctrl+C but you can give it any name. The text is self explanatory while the input means the fill in textboxes. The last line means to save the textboxes' data to an array called values, while event is something that we couldn't understand."
   ],
   "cell_type": "markdown",
   "metadata": {}
  },
  {
   "cell_type": "code",
   "execution_count": null,
   "metadata": {},
   "outputs": [],
   "source": [
    "\n",
    "window.close()\n"
   ]
  },
  {
   "source": [
    "Basically it closes the window after saving values"
   ],
   "cell_type": "markdown",
   "metadata": {}
  },
  {
   "source": [
    "### **Ffmpeg Part**\n",
    "\n",
    "It took us a while to wrap our head to write just these 3 lines of code but you will get it in just a second if you read this notebook or have tinkered around with Ffmpeg"
   ],
   "cell_type": "markdown",
   "metadata": {}
  },
  {
   "cell_type": "code",
   "execution_count": null,
   "metadata": {},
   "outputs": [],
   "source": [
    "stream = ffmpeg.input('input.' + values[0])\n",
    "stream = ffmpeg.output(stream, 'output.' + values[1])\n",
    "\n",
    "ffmpeg.run(stream)"
   ]
  },
  {
   "source": [
    "So we just made a variable called stream and in that we defined the input for ffmpeg. This function takes a minimum of 1 parameter to be functional. **Again I urge you to check Ffmpeg's docs.** So values\\[0\\] has value of first textbox which is format. For our purpose, we will use mp4 for values\\[0\\]. Run the code below for an intutive understanding."
   ],
   "cell_type": "markdown",
   "metadata": {}
  },
  {
   "cell_type": "code",
   "execution_count": 8,
   "metadata": {},
   "outputs": [
    {
     "output_type": "stream",
     "name": "stdout",
     "text": [
      "input.mp4\n"
     ]
    }
   ],
   "source": [
    "#this is not related to our convert.py and is just an example that you can run\n",
    "a = \"input.\"+input(\"Select format\")\n",
    "print(a)\n",
    "#this is a similar system used by our converter"
   ]
  },
  {
   "source": [
    "Back to our original file, the values\\[0\\] acts and replaces the input(\"Select format\") in the example above. Then we change the stream variable to be the output format and it takes 2 parameters, one is input variable and other is output filename (including format). It feels a bit akward that currently you can only name your file input but we might change that soon. after all that we just simply let it run or render, whatever you want to say. This is a deep and detailed explanation for our convert code."
   ],
   "cell_type": "markdown",
   "metadata": {}
  }
 ]
}